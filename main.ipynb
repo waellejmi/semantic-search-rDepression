{
 "cells": [
  {
   "cell_type": "code",
   "execution_count": 8,
   "id": "81be1ade",
   "metadata": {},
   "outputs": [
    {
     "data": {
      "text/plain": [
       "Dataset({\n",
       "    features: ['text', 'url', 'positive', 'negative'],\n",
       "    num_rows: 32165\n",
       "})"
      ]
     },
     "execution_count": 8,
     "metadata": {},
     "output_type": "execute_result"
    }
   ],
   "source": [
    "from datasets import DatasetDict\n",
    "ds= DatasetDict.from_csv(\"data/r_depression_posts.csv\")\n",
    "ds =ds.remove_columns(\"Unnamed: 0\")\n",
    "ds"
   ]
  },
  {
   "cell_type": "code",
   "execution_count": 9,
   "id": "7e337003",
   "metadata": {},
   "outputs": [
    {
     "data": {
      "text/plain": [
       "DatasetDict({\n",
       "    train: Dataset({\n",
       "        features: ['text', 'url', 'positive', 'negative'],\n",
       "        num_rows: 25731\n",
       "    })\n",
       "    validation: Dataset({\n",
       "        features: ['text', 'url', 'positive', 'negative'],\n",
       "        num_rows: 5469\n",
       "    })\n",
       "    test: Dataset({\n",
       "        features: ['text', 'url', 'positive', 'negative'],\n",
       "        num_rows: 965\n",
       "    })\n",
       "})"
      ]
     },
     "execution_count": 9,
     "metadata": {},
     "output_type": "execute_result"
    }
   ],
   "source": [
    "train_val, test = ds.train_test_split(test_size=0.03, seed=42).values()\n",
    "\n",
    "val_size = 0.17 / (1 - 0.03)  \n",
    "train, val = train_val.train_test_split(test_size=val_size, seed=42).values()\n",
    "\n",
    "ds_splits = DatasetDict({\n",
    "    'train': train,\n",
    "    'validation': val,\n",
    "    'test': test\n",
    "})\n",
    "ds_splits"
   ]
  }
 ],
 "metadata": {
  "kernelspec": {
   "display_name": "pytorch-hf-env",
   "language": "python",
   "name": "python3"
  },
  "language_info": {
   "codemirror_mode": {
    "name": "ipython",
    "version": 3
   },
   "file_extension": ".py",
   "mimetype": "text/x-python",
   "name": "python",
   "nbconvert_exporter": "python",
   "pygments_lexer": "ipython3",
   "version": "3.13.5"
  }
 },
 "nbformat": 4,
 "nbformat_minor": 5
}
